import numpy as np
import pandas as pd
import matplotlib.pyplot as plt

X = np.load("training_data.npy")
y = np.load("training_labels.npy")
